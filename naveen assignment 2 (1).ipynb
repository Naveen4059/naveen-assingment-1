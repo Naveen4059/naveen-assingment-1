{
 "cells": [
  {
   "cell_type": "code",
   "execution_count": 23,
   "id": "e502685a",
   "metadata": {},
   "outputs": [],
   "source": [
    "import statistics\n",
    "\n",
    "def num_arg(*orgs):\n",
    "\n",
    "        gm=1\n",
    "        for i in orgs:\n",
    "            agh = input(\"What you want to calculatge: Arithemetic, Geometric, Harmonic: \")\n",
    "            break\n",
    "        if agh== 'Arithemetic':\n",
    "            print('Arithemetic mean =',sum(orgs)/(len(orgs)))\n",
    "        elif agh == 'Geometric':\n",
    "            for i in orgs:\n",
    "                gm=gm*i**(1/len(orgs))\n",
    "            print('Geometric mean=',gm)\n",
    "        elif agh == 'Harmonic':\n",
    "                print('Harmonic mean=',statistics, harmonic_mean (orgs))\n",
    "        else:\n",
    "            print(\"Invalid Input\")\n"
   ]
  },
  {
   "cell_type": "code",
   "execution_count": 27,
   "id": "96bba103",
   "metadata": {},
   "outputs": [
    {
     "name": "stdout",
     "output_type": "stream",
     "text": [
      "What you want to calculatge: Arithemetic, Geometric, Harmonic: Geometric\n",
      "Geometric mean= 3.4641016151377544\n"
     ]
    }
   ],
   "source": [
    "num_arg(4,3)"
   ]
  },
  {
   "cell_type": "code",
   "execution_count": 29,
   "id": "acb7e853",
   "metadata": {},
   "outputs": [
    {
     "name": "stdout",
     "output_type": "stream",
     "text": [
      "What you want to calculatge: Arithemetic, Geometric, Harmonic: Geometric\n",
      "Geometric mean= 4.898979485566356\n"
     ]
    }
   ],
   "source": [
    "num_arg(4,6)"
   ]
  },
  {
   "cell_type": "code",
   "execution_count": null,
   "id": "106b8922",
   "metadata": {},
   "outputs": [],
   "source": []
  }
 ],
 "metadata": {
  "kernelspec": {
   "display_name": "Python 3 (ipykernel)",
   "language": "python",
   "name": "python3"
  },
  "language_info": {
   "codemirror_mode": {
    "name": "ipython",
    "version": 3
   },
   "file_extension": ".py",
   "mimetype": "text/x-python",
   "name": "python",
   "nbconvert_exporter": "python",
   "pygments_lexer": "ipython3",
   "version": "3.9.13"
  }
 },
 "nbformat": 4,
 "nbformat_minor": 5
}
