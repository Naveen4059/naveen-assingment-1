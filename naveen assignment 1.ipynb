{
 "cells": [
  {
   "cell_type": "code",
   "execution_count": 1,
   "id": "2c90617c",
   "metadata": {},
   "outputs": [
    {
     "name": "stdout",
     "output_type": "stream",
     "text": [
      "Sum of element-wise differences 67\n"
     ]
    }
   ],
   "source": [
    "list1 = [20,10,12,15,16,14,18]\n",
    "list2 = [5,2,4,3,8,7,9]\n",
    "total_diff = 0\n",
    "for i in range(len(list1)):\n",
    "    if list1[i] >= list2[i]:\n",
    "        diff = list1[i] - list2[i]\n",
    "    else:\n",
    "        diff = list2[i] - list1[i]\n",
    "    total_diff += diff\n",
    "print(\"Sum of element-wise differences\",total_diff)\n"
   ]
  },
  {
   "cell_type": "code",
   "execution_count": null,
   "id": "9c78265e",
   "metadata": {},
   "outputs": [],
   "source": []
  },
  {
   "cell_type": "code",
   "execution_count": null,
   "id": "d37fcf6a",
   "metadata": {},
   "outputs": [],
   "source": []
  }
 ],
 "metadata": {
  "kernelspec": {
   "display_name": "Python 3 (ipykernel)",
   "language": "python",
   "name": "python3"
  },
  "language_info": {
   "codemirror_mode": {
    "name": "ipython",
    "version": 3
   },
   "file_extension": ".py",
   "mimetype": "text/x-python",
   "name": "python",
   "nbconvert_exporter": "python",
   "pygments_lexer": "ipython3",
   "version": "3.9.13"
  }
 },
 "nbformat": 4,
 "nbformat_minor": 5
}
