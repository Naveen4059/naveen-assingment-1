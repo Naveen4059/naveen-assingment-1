{
 "cells": [
  {
   "cell_type": "code",
   "execution_count": 2,
   "id": "98b60265",
   "metadata": {},
   "outputs": [
    {
     "name": "stdout",
     "output_type": "stream",
     "text": [
      "{'a': 5, 'd': 7, 'e': 8, 'f': 2, 'b': 4, 'c': 3}\n"
     ]
    }
   ],
   "source": [
    "def insert_dict_at_index(dict1, index, dict2):\n",
    "    items = list(dict1.items())\n",
    "    items[index:index] = list(dict2.items())\n",
    "    result_dict = dict(items)\n",
    "    return result_dict\n",
    "dict1 = {'a': 5, 'b': 4, 'c': 3}\n",
    "dict2 = {'d': 7, 'e': 8, 'f': 2}\n",
    "\n",
    "result_dict = insert_dict_at_index(dict1, 1, dict2)\n",
    "print(result_dict)"
   ]
  },
  {
   "cell_type": "code",
   "execution_count": null,
   "id": "dcb5904f",
   "metadata": {},
   "outputs": [],
   "source": []
  },
  {
   "cell_type": "code",
   "execution_count": null,
   "id": "ae0b6bef",
   "metadata": {},
   "outputs": [],
   "source": []
  }
 ],
 "metadata": {
  "kernelspec": {
   "display_name": "Python 3 (ipykernel)",
   "language": "python",
   "name": "python3"
  },
  "language_info": {
   "codemirror_mode": {
    "name": "ipython",
    "version": 3
   },
   "file_extension": ".py",
   "mimetype": "text/x-python",
   "name": "python",
   "nbconvert_exporter": "python",
   "pygments_lexer": "ipython3",
   "version": "3.9.13"
  }
 },
 "nbformat": 4,
 "nbformat_minor": 5
}
